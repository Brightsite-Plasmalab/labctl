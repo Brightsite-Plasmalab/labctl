{
 "cells": [
  {
   "cell_type": "code",
   "execution_count": 2,
   "metadata": {},
   "outputs": [
    {
     "data": {
      "text/plain": [
       "''"
      ]
     },
     "execution_count": 2,
     "metadata": {},
     "output_type": "execute_result"
    }
   ],
   "source": [
    "from pathlib import Path\n",
    "from labctl.experiments import Raman_2D_Experiment, LaserTimesweepExperiment\n",
    "\n",
    "# dest_folder = Path(\"/Volumes/FSE_CCE/data/aron/240409\")\n",
    "dest_folder = Path(\"/Users/mruijzendaal/Downloads/tmp/omid\")\n",
    "dest_folder.mkdir(exist_ok=True)\n",
    "\n",
    "input('Please be careful with overriding existing files. Press enter to continue.')"
   ]
  },
  {
   "cell_type": "markdown",
   "metadata": {},
   "source": [
    "# 2D: N2:O2 plasma\n",
    "**Users**: Omid <br/>\n",
    "*Makes a 2D experiment script common for N2:O2 mixtures.*"
   ]
  },
  {
   "cell_type": "code",
   "execution_count": 5,
   "metadata": {},
   "outputs": [
    {
     "name": "stdout",
     "output_type": "stream",
     "text": [
      "Pulses per frame: 301\n",
      "Total wait: 30.8min\n",
      "NB: Put the PDG in burst mode\n",
      "Kinetic acquisition settings:\n",
      "\tExposure time:\t\t10.02s\n",
      "\tAccumulation count:\t1\n",
      "\tFrame count:\t\t168\n"
     ]
    }
   ],
   "source": [
    "experiment = Raman_2D_Experiment(\n",
    "        short_explanation = \"\",\n",
    "        author = \"Omid\",\n",
    "        filters = ['bp600', 'bp475', 'bp605', 'bp473'],\n",
    "        # filters = ['bp600', 'bp475'],\n",
    "        N_iter = 6,\n",
    "        N_frames = [8, 8, 8, 8],\n",
    "        T_exposure = 0.5,\n",
    "        camera_delay_optimum=410e-9,\n",
    "        dest_folder = dest_folder,\n",
    "        prefix = \"02_vacuum\",\n",
    "    )\n",
    "\n",
    "experiment.save_all()"
   ]
  }
 ],
 "metadata": {
  "kernelspec": {
   "display_name": ".venv",
   "language": "python",
   "name": "python3"
  },
  "language_info": {
   "codemirror_mode": {
    "name": "ipython",
    "version": 3
   },
   "file_extension": ".py",
   "mimetype": "text/x-python",
   "name": "python",
   "nbconvert_exporter": "python",
   "pygments_lexer": "ipython3",
   "version": "3.12.3"
  }
 },
 "nbformat": 4,
 "nbformat_minor": 2
}
