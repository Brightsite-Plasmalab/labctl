{
 "cells": [
  {
   "cell_type": "code",
   "execution_count": 1,
   "metadata": {},
   "outputs": [
    {
     "ename": "ImportError",
     "evalue": "cannot import name 'Cmds' from partially initialized module 'labctl.commands' (most likely due to a circular import) (/Users/mruijzendaal/Projects/UM/labctl/src/labctl/commands.py)",
     "output_type": "error",
     "traceback": [
      "\u001b[0;31m---------------------------------------------------------------------------\u001b[0m",
      "\u001b[0;31mImportError\u001b[0m                               Traceback (most recent call last)",
      "Cell \u001b[0;32mIn[1], line 2\u001b[0m\n\u001b[1;32m      1\u001b[0m \u001b[38;5;28;01mfrom\u001b[39;00m \u001b[38;5;21;01mpathlib\u001b[39;00m \u001b[38;5;28;01mimport\u001b[39;00m Path\n\u001b[0;32m----> 2\u001b[0m \u001b[38;5;28;01mfrom\u001b[39;00m \u001b[38;5;21;01mlabctl\u001b[39;00m\u001b[38;5;21;01m.\u001b[39;00m\u001b[38;5;21;01mexperiments\u001b[39;00m \u001b[38;5;28;01mimport\u001b[39;00m CameraTimesweepExperiment, Raman_2D_Experiment, LaserTimesweepExperiment\n\u001b[1;32m      4\u001b[0m \u001b[38;5;66;03m# dest_folder = Path(\"/Volumes/FSE_CCE/data/aron/240409\")\u001b[39;00m\n\u001b[1;32m      5\u001b[0m dest_folder \u001b[38;5;241m=\u001b[39m Path(\u001b[38;5;124m\"\u001b[39m\u001b[38;5;124m/Users/mruijzendaal/Downloads/tmp/omid\u001b[39m\u001b[38;5;124m\"\u001b[39m)\n",
      "File \u001b[0;32m~/Projects/UM/labctl/src/labctl/experiments/__init__.py:1\u001b[0m\n\u001b[0;32m----> 1\u001b[0m \u001b[38;5;28;01mfrom\u001b[39;00m \u001b[38;5;21;01mlabctl\u001b[39;00m\u001b[38;5;21;01m.\u001b[39;00m\u001b[38;5;21;01mexperiments\u001b[39;00m\u001b[38;5;21;01m.\u001b[39;00m\u001b[38;5;21;01mbase_camera_experiment\u001b[39;00m \u001b[38;5;28;01mimport\u001b[39;00m BaseCameraExperiment\n\u001b[1;32m      2\u001b[0m \u001b[38;5;28;01mfrom\u001b[39;00m \u001b[38;5;21;01mlabctl\u001b[39;00m\u001b[38;5;21;01m.\u001b[39;00m\u001b[38;5;21;01mexperiments\u001b[39;00m\u001b[38;5;21;01m.\u001b[39;00m\u001b[38;5;21;01mexperiment_translation_stage\u001b[39;00m \u001b[38;5;28;01mimport\u001b[39;00m TranslationStageExperiment\n\u001b[1;32m      3\u001b[0m \u001b[38;5;28;01mfrom\u001b[39;00m \u001b[38;5;21;01mlabctl\u001b[39;00m\u001b[38;5;21;01m.\u001b[39;00m\u001b[38;5;21;01mexperiments\u001b[39;00m\u001b[38;5;21;01m.\u001b[39;00m\u001b[38;5;21;01mexperiment_2d_imaging\u001b[39;00m \u001b[38;5;28;01mimport\u001b[39;00m Raman_2D_Experiment\n",
      "File \u001b[0;32m~/Projects/UM/labctl/src/labctl/experiments/base_camera_experiment.py:4\u001b[0m\n\u001b[1;32m      2\u001b[0m \u001b[38;5;28;01mfrom\u001b[39;00m \u001b[38;5;21;01mtyping\u001b[39;00m \u001b[38;5;28;01mimport\u001b[39;00m List, cast\n\u001b[1;32m      3\u001b[0m \u001b[38;5;28;01mimport\u001b[39;00m \u001b[38;5;21;01mnumpy\u001b[39;00m \u001b[38;5;28;01mas\u001b[39;00m \u001b[38;5;21;01mnp\u001b[39;00m\n\u001b[0;32m----> 4\u001b[0m \u001b[38;5;28;01mfrom\u001b[39;00m \u001b[38;5;21;01mlabctl\u001b[39;00m\u001b[38;5;21;01m.\u001b[39;00m\u001b[38;5;21;01mcommands\u001b[39;00m \u001b[38;5;28;01mimport\u001b[39;00m Cmds\n\u001b[1;32m      5\u001b[0m \u001b[38;5;28;01mfrom\u001b[39;00m \u001b[38;5;21;01mlabctl\u001b[39;00m\u001b[38;5;21;01m.\u001b[39;00m\u001b[38;5;21;01mdevices\u001b[39;00m \u001b[38;5;28;01mimport\u001b[39;00m ThorlabsStageCmds, BncPdgCmds\n\u001b[1;32m      6\u001b[0m \u001b[38;5;28;01mfrom\u001b[39;00m \u001b[38;5;21;01mlabctl\u001b[39;00m\u001b[38;5;21;01m.\u001b[39;00m\u001b[38;5;21;01mexperiments\u001b[39;00m\u001b[38;5;21;01m.\u001b[39;00m\u001b[38;5;21;01mexperiment\u001b[39;00m \u001b[38;5;28;01mimport\u001b[39;00m Experiment\n",
      "File \u001b[0;32m~/Projects/UM/labctl/src/labctl/commands.py:5\u001b[0m\n\u001b[1;32m      3\u001b[0m \u001b[38;5;28;01mfrom\u001b[39;00m \u001b[38;5;21;01mtyping\u001b[39;00m \u001b[38;5;28;01mimport\u001b[39;00m List, Union\n\u001b[1;32m      4\u001b[0m \u001b[38;5;28;01mimport\u001b[39;00m \u001b[38;5;21;01mtime\u001b[39;00m\n\u001b[0;32m----> 5\u001b[0m \u001b[38;5;28;01mfrom\u001b[39;00m \u001b[38;5;21;01mlabctl\u001b[39;00m\u001b[38;5;21;01m.\u001b[39;00m\u001b[38;5;21;01mdevices\u001b[39;00m\u001b[38;5;21;01m.\u001b[39;00m\u001b[38;5;21;01mbase\u001b[39;00m \u001b[38;5;28;01mimport\u001b[39;00m DeviceBase\n\u001b[1;32m      8\u001b[0m \u001b[38;5;28;01mclass\u001b[39;00m \u001b[38;5;21;01mCmds\u001b[39;00m:\n\u001b[1;32m      9\u001b[0m     total_wait \u001b[38;5;241m=\u001b[39m \u001b[38;5;241m0\u001b[39m\n",
      "File \u001b[0;32m~/Projects/UM/labctl/src/labctl/devices/__init__.py:1\u001b[0m\n\u001b[0;32m----> 1\u001b[0m \u001b[38;5;28;01mfrom\u001b[39;00m \u001b[38;5;21;01mlabctl\u001b[39;00m\u001b[38;5;21;01m.\u001b[39;00m\u001b[38;5;21;01mdevices\u001b[39;00m\u001b[38;5;21;01m.\u001b[39;00m\u001b[38;5;21;01mimpl\u001b[39;00m \u001b[38;5;28;01mimport\u001b[39;00m DeviceCmds\n\u001b[1;32m      2\u001b[0m \u001b[38;5;28;01mfrom\u001b[39;00m \u001b[38;5;21;01mlabctl\u001b[39;00m\u001b[38;5;21;01m.\u001b[39;00m\u001b[38;5;21;01mdevices\u001b[39;00m\u001b[38;5;21;01m.\u001b[39;00m\u001b[38;5;21;01mbnc_pdg\u001b[39;00m \u001b[38;5;28;01mimport\u001b[39;00m BncPdgCmds\n\u001b[1;32m      3\u001b[0m \u001b[38;5;28;01mfrom\u001b[39;00m \u001b[38;5;21;01mlabctl\u001b[39;00m\u001b[38;5;21;01m.\u001b[39;00m\u001b[38;5;21;01mdevices\u001b[39;00m\u001b[38;5;21;01m.\u001b[39;00m\u001b[38;5;21;01mpi_translation_stage\u001b[39;00m \u001b[38;5;28;01mimport\u001b[39;00m PiTranslationStage\n",
      "File \u001b[0;32m~/Projects/UM/labctl/src/labctl/devices/impl.py:1\u001b[0m\n\u001b[0;32m----> 1\u001b[0m \u001b[38;5;28;01mfrom\u001b[39;00m \u001b[38;5;21;01mlabctl\u001b[39;00m\u001b[38;5;21;01m.\u001b[39;00m\u001b[38;5;21;01mcommands\u001b[39;00m \u001b[38;5;28;01mimport\u001b[39;00m Cmds\n\u001b[1;32m      2\u001b[0m \u001b[38;5;28;01mfrom\u001b[39;00m \u001b[38;5;21;01mlabctl\u001b[39;00m\u001b[38;5;21;01m.\u001b[39;00m\u001b[38;5;21;01mdevices\u001b[39;00m\u001b[38;5;21;01m.\u001b[39;00m\u001b[38;5;21;01mimpl\u001b[39;00m \u001b[38;5;28;01mimport\u001b[39;00m DeviceBase\n\u001b[1;32m      5\u001b[0m \u001b[38;5;28;01mclass\u001b[39;00m \u001b[38;5;21;01mDeviceCmds\u001b[39;00m(DeviceBase):\n",
      "\u001b[0;31mImportError\u001b[0m: cannot import name 'Cmds' from partially initialized module 'labctl.commands' (most likely due to a circular import) (/Users/mruijzendaal/Projects/UM/labctl/src/labctl/commands.py)"
     ]
    }
   ],
   "source": [
    "from pathlib import Path\n",
    "from labctl.experiments import CameraTimesweepExperiment, Raman_2D_Experiment, LaserTimesweepExperiment\n",
    "\n",
    "# dest_folder = Path(\"/Volumes/FSE_CCE/data/aron/240409\")\n",
    "dest_folder = Path(\"/Users/mruijzendaal/Downloads/tmp/omid\")\n",
    "dest_folder.mkdir(exist_ok=True)\n",
    "\n",
    "input('Please be careful with overriding existing files. Press enter to continue.')"
   ]
  },
  {
   "cell_type": "markdown",
   "metadata": {},
   "source": [
    "# Measurement"
   ]
  },
  {
   "cell_type": "code",
   "execution_count": 14,
   "metadata": {},
   "outputs": [
    {
     "name": "stdout",
     "output_type": "stream",
     "text": [
      "Pulses per frame: 1\n",
      "Total wait: 1.9min\n",
      "NB: Put the PDG in burst mode\n",
      "Kinetic acquisition settings:\n",
      "\tExposure time:\t\t0.02s\n",
      "\tAccumulation count:\t1\n",
      "\tFrame count:\t\t180\n"
     ]
    }
   ],
   "source": [
    "experiment = Raman_2D_Experiment(\n",
    "        short_explanation = \"\",\n",
    "        author = \"Martijn Ruijzendaal\",\n",
    "        filters = [\"bp577\", \"bp580\", \"bp589\"],\n",
    "        N_iter = 1,\n",
    "        N_frames = [30 for _ in range(3)],\n",
    "        T_exposure = 0.01,\n",
    "        camera_delay_optimum=410e-9,\n",
    "        dest_folder = dest_folder,\n",
    "        prefix = \"04_bp577_bp580_bp589_10slmN2_200mbar_400W\",\n",
    "    )\n",
    "\n",
    "experiment.save_all()"
   ]
  },
  {
   "cell_type": "markdown",
   "metadata": {},
   "source": [
    "# For Omid"
   ]
  },
  {
   "cell_type": "code",
   "execution_count": 4,
   "metadata": {},
   "outputs": [
    {
     "name": "stdout",
     "output_type": "stream",
     "text": [
      "Pulses per frame: 301\n",
      "Total wait: 30.8min\n",
      "NB: Put the PDG in burst mode\n",
      "Kinetic acquisition settings:\n",
      "\tExposure time:\t\t10.02s\n",
      "\tAccumulation count:\t1\n",
      "\tFrame count:\t\t168\n"
     ]
    }
   ],
   "source": [
    "experiment = Raman_2D_Experiment(\n",
    "        short_explanation = \"\",\n",
    "        author = \"Omid Samadi\",\n",
    "        filters = [\"bp589\", \"bp473\", \"bp600\", \"\"],\n",
    "        # filters = [\"bp600\", \"bp492\", \"\", \"\"],\n",
    "        N_iter = 7,\n",
    "        N_frames = [4, 4, 4],\n",
    "        T_exposure = 10,\n",
    "        camera_delay_optimum=410e-9,\n",
    "        dest_folder = dest_folder,\n",
    "        prefix = \"02_vacuum\",\n",
    "    )\n",
    "\n",
    "experiment.save_all()"
   ]
  },
  {
   "cell_type": "code",
   "execution_count": 15,
   "metadata": {},
   "outputs": [
    {
     "name": "stdout",
     "output_type": "stream",
     "text": [
      "dict_keys(['indices', '0_sig', '0_bg', '1_sig', '1_bg', '2_sig', '2_bg', 'prefix', 'short_explanation', 'author', 'dest_folder', 'filters', 'N_iter', 'N_frames', 'T_exposure'])\n",
      "(array([  1,   3,   5,   7,  25,  27,  29,  31,  49,  51,  53,  55,  73,\n",
      "        75,  77,  79,  97,  99, 101, 103]),)\n"
     ]
    }
   ],
   "source": [
    "from um.util.saving import load_from_pkl\n",
    "\n",
    "obj = load_from_pkl(\"/Volumes/FSE_CCE/data/omid/240319/01__idx.pkl\")\n",
    "# print(len(obj['indices'][0][0]))\n",
    "print(obj.keys())\n",
    "print(obj['0_bg'])\n",
    "mydata = ...\n",
    "data_filter0_sig = mydata[obj['0_sig']]"
   ]
  },
  {
   "cell_type": "markdown",
   "metadata": {},
   "source": [
    "# Room temperature"
   ]
  },
  {
   "cell_type": "code",
   "execution_count": 7,
   "metadata": {},
   "outputs": [
    {
     "name": "stdout",
     "output_type": "stream",
     "text": [
      "Pulses per frame: 61\n",
      "Total wait: 21.3min\n",
      "NB: Put the PDG in burst mode\n",
      "Kinetic acquisition settings:\n",
      "\tExposure time:\t\t2.02s\n",
      "\tAccumulation count:\t1\n",
      "\tFrame count:\t\t440\n"
     ]
    }
   ],
   "source": [
    "experiment = Raman_2D_Experiment(\n",
    "        short_explanation = \"Attempt at absolute calibration\",\n",
    "        author = \"Martijn Ruijzendaal\",\n",
    "        filters = [\"bp675\", \"bp425\", \"bp550\", \"bp568\"],\n",
    "        N_iter = 20,\n",
    "        N_frames = [10, 1],\n",
    "        T_exposure = 2,\n",
    "        camera_delay_optimum=410e-9,\n",
    "        dest_folder = dest_folder,\n",
    "        prefix = \"01_roomtemp\",\n",
    "    )\n",
    "\n",
    "experiment.save_all()"
   ]
  },
  {
   "cell_type": "markdown",
   "metadata": {},
   "source": [
    "# Angle dependence"
   ]
  },
  {
   "cell_type": "code",
   "execution_count": 13,
   "metadata": {},
   "outputs": [
    {
     "name": "stdout",
     "output_type": "stream",
     "text": [
      "Pulses per frame: 16\n",
      "Total wait: 3.4min\n",
      "Total wait: 7.3min\n",
      "\n",
      "Kinetic acquisition settings:\n",
      "\tExposure time:\t\t0.52s\n",
      "\tAccumulation count:\t1\n",
      "\tFrame count:\t\t400 \n"
     ]
    }
   ],
   "source": [
    "experiment = Raman_2D_Experiment(\n",
    "    short_explanation = \"Downstream measurements\",\n",
    "    author = \"Martijn Ruijzendaal\",\n",
    "    filters = [\"bp675\", \"bp425\", \"bp550\", \"bp568\"],\n",
    "    N_iter = 1,\n",
    "    N_frames = [0, 0, 50, 150],\n",
    "    T_exposure = 0.5,\n",
    "    camera_delay_optimum=412e-9,\n",
    "    dest_folder = dest_folder,\n",
    "    prefix = \"06_roomtemp_angdep\",\n",
    ")\n",
    "\n",
    "experiment.save_all()"
   ]
  },
  {
   "cell_type": "markdown",
   "metadata": {},
   "source": [
    "# Timesweep"
   ]
  },
  {
   "cell_type": "code",
   "execution_count": null,
   "metadata": {},
   "outputs": [],
   "source": [
    "experiment = CameraTimesweepExperiment(\n",
    "        short_explanation = \"Attempt at absolute calibration\",\n",
    "        author = \"Martijn Ruijzendaal\",\n",
    "        N_iter = 20,\n",
    "        N_frames = [10, 1],\n",
    "        T_exposure = 2,\n",
    "        t0=410e-9,\n",
    "        delta_T=[-20, -10, -5, -2, 0, 2, 5, 10, 20],\n",
    "        dest_folder = dest_folder,\n",
    "        prefix = \"01_timesweep\",\n",
    "    )\n",
    "\n",
    "experiment.save_all()"
   ]
  },
  {
   "cell_type": "markdown",
   "metadata": {},
   "source": [
    "# Aron"
   ]
  },
  {
   "cell_type": "code",
   "execution_count": 2,
   "metadata": {},
   "outputs": [
    {
     "name": "stdout",
     "output_type": "stream",
     "text": [
      "[10, 10, 10, 10, 10, 10]\n",
      "[0.0, 2.0, 4.0, 6.0, 8.0, 10.0]\n",
      "Pulses per frame: 601\n",
      "Total wait: 41.8min\n",
      "NB: Put the PDG in burst mode\n",
      "Kinetic acquisition settings:\n",
      "\tExposure time:\t\t20.02s\n",
      "\tAccumulation count:\t1\n",
      "\tFrame count:\t\t120\n"
     ]
    }
   ],
   "source": [
    "from um.experiments.experiment_translation_stage import TranslationStageExperiment\n",
    "import numpy as np\n",
    "\n",
    "x = np.linspace(0, 10, 6) # [mm]\n",
    "x = [xi for xi in x]\n",
    "\n",
    "# N_frames = np.linspace(20, 10, len(x)).astype(int)\n",
    "N_frames = [int(10) for N in range(len(x))]\n",
    "print(N_frames)\n",
    "\n",
    "print(x)\n",
    "experiment = TranslationStageExperiment(x, \n",
    "        short_explanation = \"\",\n",
    "        author = \"Martijn Ruijzendaal\",\n",
    "        N_iter = 1,\n",
    "        N_frames = N_frames,\n",
    "        T_exposure = 20,\n",
    "        camera_delay_optimum=423e-9,\n",
    "        dest_folder = dest_folder,\n",
    "        prefix = \"01_radialscan_10slmN2_300mbar_400W\"\n",
    ")\n",
    "experiment.save_all()\n",
    "# experiment.make_labctl_script().print()"
   ]
  },
  {
   "cell_type": "code",
   "execution_count": 3,
   "metadata": {},
   "outputs": [],
   "source": [
    "from um.experiments.experiment_translation_stage import TranslationStageExperiment\n",
    "import numpy as np"
   ]
  },
  {
   "cell_type": "code",
   "execution_count": 6,
   "metadata": {},
   "outputs": [
    {
     "name": "stdout",
     "output_type": "stream",
     "text": [
      "[20, 19, 18, 17, 16, 15, 14, 13, 12, 11, 10, 10]\n",
      "[0.0, 1.0, 2.0, 3.0, 4.0, 5.0, 6.0, 7.0, 8.0, 9.0, 10.0, 11.0]\n",
      "Pulses per frame: 601\n",
      "Total wait: 120.7min\n",
      "NB: Put the PDG in burst mode\n",
      "Kinetic acquisition settings:\n",
      "\tExposure time:\t\t20.02s\n",
      "\tAccumulation count:\t1\n",
      "\tFrame count:\t\t350\n"
     ]
    }
   ],
   "source": [
    "x = np.linspace(0, 11, 12) # [mm]\n",
    "x = [xi for xi in x]\n",
    "\n",
    "N_frames = np.linspace(20, 10, len(x)).astype(int)\n",
    "N_frames = [int(N) for N in N_frames]\n",
    "print(N_frames)\n",
    "\n",
    "print(x)\n",
    "experiment2 = TranslationStageExperiment(x, \n",
    "        short_explanation = \"\",\n",
    "        author = \"Martijn Ruijzendaal\",\n",
    "        N_iter = 1,\n",
    "        N_frames = N_frames,\n",
    "        T_exposure = 20,\n",
    "        camera_delay_optimum=423e-9,\n",
    "        dest_folder = dest_folder,\n",
    "        prefix = \"02_radialscan_10slmN2_300mbar_400W\"\n",
    ")\n",
    "experiment2.save_all()\n",
    "# experiment.make_labctl_script().print()"
   ]
  }
 ],
 "metadata": {
  "kernelspec": {
   "display_name": ".venv",
   "language": "python",
   "name": "python3"
  },
  "language_info": {
   "codemirror_mode": {
    "name": "ipython",
    "version": 3
   },
   "file_extension": ".py",
   "mimetype": "text/x-python",
   "name": "python",
   "nbconvert_exporter": "python",
   "pygments_lexer": "ipython3",
   "version": "3.12.3"
  }
 },
 "nbformat": 4,
 "nbformat_minor": 2
}
