{
 "cells": [
  {
   "cell_type": "code",
   "execution_count": 1,
   "metadata": {},
   "outputs": [
    {
     "data": {
      "text/plain": [
       "''"
      ]
     },
     "execution_count": 1,
     "metadata": {},
     "output_type": "execute_result"
    }
   ],
   "source": [
    "from pathlib import Path\n",
    "from labctl.experiments import Raman_2D_Experiment, LaserTimesweepExperiment, SimpleLaserExperiment\n",
    "\n",
    "dest_folder = Path(r\"/Volumes/Samsung USB/250224\")\n",
    "# dest_folder = Path(r\"/Volumes/research/FSE_CCE/data/martijn/250123\")\n",
    "# dest_folder = Path(r\"/Users/martijn/Downloads/tmp\")\n",
    "dest_folder.mkdir(exist_ok=True)\n",
    "\n",
    "input('Please be careful with overriding existing files. Press enter to continue.')"
   ]
  },
  {
   "cell_type": "code",
   "execution_count": 3,
   "metadata": {},
   "outputs": [
    {
     "name": "stdout",
     "output_type": "stream",
     "text": [
      "The microwave pulse frequency is 510 Hz\n",
      "Microwave pulse delay generator:\n",
      "\t T0: 0.001 960 784 3 s\n",
      "\t Burst count: 17\n",
      "Channel E is used for the MW trigger\n",
      "\t and synchronizes the start of the MW to the laser at t0 = -9_000 ns\n",
      "\n",
      "\n",
      "Pulses per frame: 601\n",
      "Total wait: 75.4min\n",
      "NB: Put the PDG in burst mode\n",
      "Kinetic acquisition settings:\n",
      "\tExposure time:\t\t20.02s\n",
      "\tAccumulation count:\t1\n",
      "\tFrame count:\t\t220\n"
     ]
    }
   ],
   "source": [
    "from labctl.experiments.experiment_pulsed_microwave import LaserPulsedMicrowaveTimesweep\n",
    "\n",
    "T_period = 1/510\n",
    "T_pulse = T_period * 0.05\n",
    "delays = [-T_pulse/6, 0, T_pulse/6*1, T_pulse/6*2, T_pulse/6*3, T_pulse/6*4, T_pulse/6*5, T_pulse/6*6, T_period*0.07, T_period*0.15, T_period*0.7]\n",
    "\n",
    "experiment = LaserPulsedMicrowaveTimesweep(\n",
    "        short_explanation = \"Laser timesweep in pulsed microwave\",\n",
    "        author = \"Martijn Ruijzendaal\",\n",
    "        dest_folder = dest_folder,\n",
    "        prefix = \"04_timesweep\",\n",
    "        N_iter = 1,\n",
    "        N_frames = [10 for _ in delays],\n",
    "        T_exposure = 20, # [s] camera exposure time\n",
    "        MW_pulse_frequency = 510, # [Hz] Microwave pulse frequency, should be a multiple of 30Hz\n",
    "        camera_delay_optimum=454e-9, # [s] Camera delay such that the start of the laser pulse synchronises with the start of the camera exposure, should be ~400ns\n",
    "        t0=-9e-6, # [s] Microwave pulse delay such that the start of the MW pulse synchronises with the start of the laser pulse, should be ~100ns\n",
    "        channel_MW_trigger='E',\n",
    "        delta_T=delays, # [s] time scans of the laser relative to the microwave pulse\n",
    "    )\n",
    "\n",
    "experiment.save_all()"
   ]
  },
  {
   "cell_type": "code",
   "execution_count": 12,
   "metadata": {},
   "outputs": [
    {
     "name": "stdout",
     "output_type": "stream",
     "text": [
      "[-1.50000000e-05 -1.46551724e-05 -1.43103448e-05 -1.39655172e-05\n",
      " -1.36206897e-05 -1.32758621e-05 -1.29310345e-05 -1.25862069e-05\n",
      " -1.22413793e-05 -1.18965517e-05 -1.15517241e-05 -1.12068966e-05\n",
      " -1.08620690e-05 -1.05172414e-05 -1.01724138e-05 -9.82758621e-06\n",
      " -9.48275862e-06 -9.13793103e-06 -8.79310345e-06 -8.44827586e-06\n",
      " -8.10344828e-06 -7.75862069e-06 -7.41379310e-06 -7.06896552e-06\n",
      " -6.72413793e-06 -6.37931034e-06 -6.03448276e-06 -5.68965517e-06\n",
      " -5.34482759e-06 -5.00000000e-06]\n",
      "[-1.5e-05, -1.4655172413793105e-05, -1.4310344827586207e-05, -1.3965517241379311e-05, -1.3620689655172414e-05, -1.3275862068965518e-05, -1.293103448275862e-05, -1.2586206896551725e-05, -1.2241379310344829e-05, -1.1896551724137931e-05, -1.1551724137931035e-05, -1.1206896551724138e-05, -1.0862068965517242e-05, -1.0517241379310346e-05, -1.017241379310345e-05, -9.827586206896553e-06, -9.482758620689655e-06, -9.13793103448276e-06, -8.793103448275864e-06, -8.448275862068968e-06, -8.10344827586207e-06, -7.758620689655173e-06, -7.413793103448277e-06, -7.068965517241381e-06, -6.724137931034484e-06, -6.379310344827588e-06, -6.03448275862069e-06, -5.689655172413795e-06, -5.344827586206899e-06, -5e-06]\n",
      "The microwave pulse frequency is 510 Hz\n",
      "Microwave pulse delay generator:\n",
      "\t T0: 0.001 960 784 3 s\n",
      "\t Burst count: 17\n",
      "Channel E is used for the MW trigger\n",
      "\t and synchronizes the start of the MW to the laser at t0 = -9 ns\n",
      "\n",
      "\n",
      "Pulses per frame: 10\n",
      "Total wait: 0.9min\n",
      "NB: Put the PDG in burst mode\n",
      "Kinetic acquisition settings:\n",
      "\tExposure time:\t\t0.32s\n",
      "\tAccumulation count:\t1\n",
      "\tFrame count:\t\t60\n"
     ]
    }
   ],
   "source": [
    "from labctl.experiments.experiment_pulsed_microwave import LaserPulsedMicrowaveTimesweep\n",
    "import numpy as np\n",
    "\n",
    "delays = np.linspace(-15e-6, -5e-6, 30)\n",
    "print(delays)\n",
    "print([float(x) for x in delays])\n",
    "\n",
    "experiment = LaserPulsedMicrowaveTimesweep(\n",
    "        short_explanation = \"Laser timesweep in pulsed microwave\",\n",
    "        author = \"Martijn Ruijzendaal\",\n",
    "        dest_folder = dest_folder,\n",
    "        prefix = \"02_oes_timesweep\",\n",
    "        N_iter = 1,\n",
    "        N_frames = [1 for _ in delays],\n",
    "        T_exposure = 0.3, # [s] camera exposure time\n",
    "        MW_pulse_frequency = 510, # [Hz] Microwave pulse frequency, should be a multiple of 30Hz\n",
    "        camera_delay_optimum=454e-9, # [s] Camera delay such that the start of the laser pulse synchronises with the start of the camera exposure, should be ~400ns\n",
    "        t0=-9e-9, # [s] Microwave pulse delay such that the start of the MW pulse synchronises with the start of the laser pulse, should be ~100ns\n",
    "        channel_MW_trigger='E',\n",
    "        delta_T=[float(x) for x in delays], # [s] time scans of the laser relative to the microwave pulse\n",
    "    )\n",
    "\n",
    "experiment.save_all()"
   ]
  }
 ],
 "metadata": {
  "kernelspec": {
   "display_name": ".venv",
   "language": "python",
   "name": "python3"
  },
  "language_info": {
   "codemirror_mode": {
    "name": "ipython",
    "version": 3
   },
   "file_extension": ".py",
   "mimetype": "text/x-python",
   "name": "python",
   "nbconvert_exporter": "python",
   "pygments_lexer": "ipython3",
   "version": "3.11.10"
  }
 },
 "nbformat": 4,
 "nbformat_minor": 2
}
