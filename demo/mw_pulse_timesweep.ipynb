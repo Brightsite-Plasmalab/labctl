{
 "cells": [
  {
   "cell_type": "code",
   "execution_count": 2,
   "metadata": {},
   "outputs": [
    {
     "data": {
      "text/plain": [
       "''"
      ]
     },
     "execution_count": 2,
     "metadata": {},
     "output_type": "execute_result"
    }
   ],
   "source": [
    "from pathlib import Path\n",
    "from labctl.experiments import Raman_2D_Experiment, LaserTimesweepExperiment, SimpleLaserExperiment\n",
    "\n",
    "# dest_folder = Path(r\"/Volumes/Samsung USB/250116\")\n",
    "# dest_folder = Path(r\"/Volumes/research/FSE_CCE/data/martijn/250123\")\n",
    "dest_folder = Path(r\"/Users/martijn/Downloads/tmp\")\n",
    "dest_folder.mkdir(exist_ok=True)\n",
    "\n",
    "input('Please be careful with overriding existing files. Press enter to continue.')"
   ]
  },
  {
   "cell_type": "code",
   "execution_count": null,
   "metadata": {},
   "outputs": [
    {
     "name": "stdout",
     "output_type": "stream",
     "text": [
      "The microwave pulse frequency is 60 Hz\n",
      "Microwave pulse delay generator:\n",
      "\t T0: 0.016 666 666 7 s\n",
      "\t Burst count: 2\n",
      "Channel E is used for the MW trigger\n",
      "\t and synchronizes the start of the MW to the laser at t0 = 200 ns\n",
      "\n",
      "\n",
      "Pulses per frame: 1\n",
      "Total wait: 0.1min\n",
      "NB: Put the PDG in burst mode\n",
      "Kinetic acquisition settings:\n",
      "\tExposure time:\t\t0.02s\n",
      "\tAccumulation count:\t1\n",
      "\tFrame count:\t\t8\n"
     ]
    }
   ],
   "source": [
    "from labctl.experiments.experiment_pulsed_microwave import LaserPulsedMicrowaveTimesweep\n",
    "\n",
    "\n",
    "experiment = LaserPulsedMicrowaveTimesweep(\n",
    "        short_explanation = \"Laser timesweep in pulsed microwave\",\n",
    "        author = \"Martijn Ruijzendaal\",\n",
    "        dest_folder = dest_folder,\n",
    "        prefix = \"01_timesweep\",\n",
    "        N_iter = 1,\n",
    "        N_frames = [1, 1, 1, 1],\n",
    "        T_exposure = 1, # [s] camera exposure time\n",
    "        MW_pulse_frequency = 60, # [Hz] Microwave pulse frequency, should be a multiple of 30Hz\n",
    "        camera_delay_optimum=454e-9, # [s] Camera delay such that the start of the laser pulse synchronises with the start of the camera exposure, should be ~400ns\n",
    "        t0=200e-9, # [s] Microwave pulse delay such that the start of the MW pulse synchronises with the start of the laser pulse, should be ~100ns\n",
    "        channel_MW_trigger='E',\n",
    "        delta_T=[0, 100e-6, 200e-6, 1e-3], # [s] time scans of the laser relative to the microwave pulse\n",
    "    )\n",
    "\n",
    "experiment.save_all()"
   ]
  }
 ],
 "metadata": {
  "kernelspec": {
   "display_name": ".venv",
   "language": "python",
   "name": "python3"
  },
  "language_info": {
   "codemirror_mode": {
    "name": "ipython",
    "version": 3
   },
   "file_extension": ".py",
   "mimetype": "text/x-python",
   "name": "python",
   "nbconvert_exporter": "python",
   "pygments_lexer": "ipython3",
   "version": "3.11.10"
  }
 },
 "nbformat": 4,
 "nbformat_minor": 2
}
